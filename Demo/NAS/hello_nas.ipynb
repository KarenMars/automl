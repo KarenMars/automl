{
  "cells": [
    {
      "cell_type": "code",
      "execution_count": 75,
      "metadata": {
        "collapsed": false
      },
      "outputs": [],
      "source": [
        "%matplotlib inline"
      ]
    },
    {
      "cell_type": "markdown",
      "metadata": {},
      "source": [
        "\n",
        "# Hello, NAS!\n",
        "\n",
        "This is the 101 tutorial of Neural Architecture Search (NAS) on NNI.\n",
        "In this tutorial, we will search for a neural architecture on MNIST dataset with the help of NAS framework of NNI, i.e., *Retiarii*.\n",
        "We use multi-trial NAS as an example to show how to construct and explore a model space.\n",
        "\n",
        "There are mainly three crucial components for a neural architecture search task, namely,\n",
        "\n",
        "* Model search space that defines a set of models to explore.\n",
        "* A proper strategy as the method to explore this model space.\n",
        "* A model evaluator that reports the performance of every model in the space.\n",
        "\n",
        "Currently, PyTorch is the only supported framework by Retiarii, and we have only tested **PyTorch 1.7 to 1.10**.\n",
        "This tutorial assumes PyTorch context but it should also apply to other frameworks, which is in our future plan.\n",
        "\n",
        "## Define your Model Space\n",
        "\n",
        "Model space is defined by users to express a set of models that users want to explore, which contains potentially good-performing models.\n",
        "In this framework, a model space is defined with two parts: a base model and possible mutations on the base model.\n"
      ]
    },
    {
      "cell_type": "markdown",
      "metadata": {},
      "source": [
        "### Define Base Model\n",
        "\n",
        "Defining a base model is almost the same as defining a PyTorch (or TensorFlow) model.\n",
        "Usually, you only need to replace the code ``import torch.nn as nn`` with\n",
        "``import nni.retiarii.nn.pytorch as nn`` to use our wrapped PyTorch modules.\n",
        "\n",
        "Below is a very simple example of defining a base model.\n",
        "\n"
      ]
    },
    {
      "cell_type": "code",
      "execution_count": 76,
      "metadata": {
        "collapsed": false
      },
      "outputs": [],
      "source": [
        "import torch\n",
        "import torch.nn.functional as F\n",
        "import nni.retiarii.nn.pytorch as nn\n",
        "from nni.retiarii import model_wrapper\n",
        "\n",
        "\n",
        "@model_wrapper      # this decorator should be put on the out most\n",
        "class Net(nn.Module):\n",
        "    def __init__(self):\n",
        "        super().__init__()\n",
        "        self.conv1 = nn.Conv2d(1, 32, 3, 1) \n",
        "        self.conv2 = nn.Conv2d(32, 64, 3, 1)\n",
        "        self.dropout1 = nn.Dropout(0.25)\n",
        "        self.dropout2 = nn.Dropout(0.5)\n",
        "        self.fc1 = nn.Linear(9216, 128)\n",
        "        self.fc2 = nn.Linear(128, 10)\n",
        "\n",
        "    def forward(self, x):\n",
        "        x = F.relu(self.conv1(x))\n",
        "        x = F.max_pool2d(self.conv2(x), 2)\n",
        "        x = torch.flatten(self.dropout1(x), 1)\n",
        "        x = self.fc2(self.dropout2(F.relu(self.fc1(x))))\n",
        "        output = F.log_softmax(x, dim=1)\n",
        "        return output"
      ]
    },
    {
      "cell_type": "markdown",
      "metadata": {},
      "source": [
        ".. tip:: Always keep in mind that you should use ``import nni.retiarii.nn.pytorch as nn`` and :meth:`nni.retiarii.model_wrapper`.\n",
        "         Many mistakes are a result of forgetting one of those.\n",
        "         Also, please use ``torch.nn`` for submodules of ``nn.init``, e.g., ``torch.nn.init`` instead of ``nn.init``.\n",
        "\n",
        "### Define Model Mutations\n",
        "\n",
        "A base model is only one concrete model not a model space. We provide :doc:`API and Primitives </nas/construct_space>`\n",
        "for users to express how the base model can be mutated. That is, to build a model space which includes many models.\n",
        "\n",
        "Based on the above base model, we can define a model space as below.\n",
        "\n",
        ".. code-block:: diff\n",
        "\n",
        "  @model_wrapper\n",
        "  class Net(nn.Module):\n",
        "    def __init__(self):\n",
        "      super().__init__()\n",
        "      self.conv1 = nn.Conv2d(1, 32, 3, 1)\n",
        "  -   self.conv2 = nn.Conv2d(32, 64, 3, 1)\n",
        "  +   self.conv2 = nn.LayerChoice([\n",
        "  +       nn.Conv2d(32, 64, 3, 1),\n",
        "  +       DepthwiseSeparableConv(32, 64)\n",
        "  +   ])\n",
        "  -   self.dropout1 = nn.Dropout(0.25)\n",
        "  +   self.dropout1 = nn.Dropout(nn.ValueChoice([0.25, 0.5, 0.75]))\n",
        "      self.dropout2 = nn.Dropout(0.5)\n",
        "  -   self.fc1 = nn.Linear(9216, 128)\n",
        "  -   self.fc2 = nn.Linear(128, 10)\n",
        "  +   feature = nn.ValueChoice([64, 128, 256])\n",
        "  +   self.fc1 = nn.Linear(9216, feature)\n",
        "  +   self.fc2 = nn.Linear(feature, 10)\n",
        "\n",
        "    def forward(self, x):\n",
        "      x = F.relu(self.conv1(x))\n",
        "      x = F.max_pool2d(self.conv2(x), 2)\n",
        "      x = torch.flatten(self.dropout1(x), 1)\n",
        "      x = self.fc2(self.dropout2(F.relu(self.fc1(x))))\n",
        "      output = F.log_softmax(x, dim=1)\n",
        "      return output\n",
        "\n",
        "This results in the following code:\n",
        "\n"
      ]
    },
    {
      "cell_type": "code",
      "execution_count": 77,
      "metadata": {
        "collapsed": false
      },
      "outputs": [
        {
          "data": {
            "text/plain": [
              "ModelSpace(\n",
              "  (conv1): Conv2d(1, 32, kernel_size=(3, 3), stride=(1, 1))\n",
              "  (conv2): LayerChoice([Conv2d(32, 64, kernel_size=(3, 3), stride=(1, 1)), DepthwiseSeparableConv(\n",
              "    (depthwise): Conv2d(32, 32, kernel_size=(3, 3), stride=(1, 1), groups=32)\n",
              "    (pointwise): Conv2d(32, 64, kernel_size=(1, 1), stride=(1, 1))\n",
              "  )], label='model_1')\n",
              "  (dropout1): Dropout(p=0.25, inplace=False)\n",
              "  (dropout2): Dropout(p=0.5, inplace=False)\n",
              "  (fc1): Linear(in_features=9216, out_features=64, bias=True)\n",
              "  (fc2): Linear(in_features=64, out_features=10, bias=True)\n",
              ")"
            ]
          },
          "execution_count": 77,
          "metadata": {},
          "output_type": "execute_result"
        }
      ],
      "source": [
        "class DepthwiseSeparableConv(nn.Module):\n",
        "    def __init__(self, in_ch, out_ch):\n",
        "        super().__init__()\n",
        "        self.depthwise = nn.Conv2d(in_ch, in_ch, kernel_size=3, groups=in_ch)\n",
        "        self.pointwise = nn.Conv2d(in_ch, out_ch, kernel_size=1)\n",
        "\n",
        "    def forward(self, x):\n",
        "        return self.pointwise(self.depthwise(x))\n",
        "\n",
        "\n",
        "@model_wrapper\n",
        "class ModelSpace(nn.Module):\n",
        "    def __init__(self):\n",
        "        super().__init__()\n",
        "        self.conv1 = nn.Conv2d(1, 32, 3, 1)\n",
        "        # LayerChoice is used to select a layer between Conv2d and DwConv.\n",
        "        self.conv2 = nn.LayerChoice([\n",
        "            nn.Conv2d(32, 64, 3, 1),\n",
        "            DepthwiseSeparableConv(32, 64)\n",
        "        ])\n",
        "        # ValueChoice is used to select a dropout rate.\n",
        "        # ValueChoice can be used as parameter of modules wrapped in `nni.retiarii.nn.pytorch`\n",
        "        # or customized modules wrapped with `@basic_unit`.\n",
        "        self.dropout1 = nn.Dropout(nn.ValueChoice([0.25, 0.5, 0.75]))  # choose dropout rate from 0.25, 0.5 and 0.75\n",
        "        self.dropout2 = nn.Dropout(0.5)\n",
        "        feature = nn.ValueChoice([64, 128, 256])\n",
        "        self.fc1 = nn.Linear(9216, feature)\n",
        "        self.fc2 = nn.Linear(feature, 10)\n",
        "\n",
        "    def forward(self, x):\n",
        "        x = F.relu(self.conv1(x))\n",
        "        x = F.max_pool2d(self.conv2(x), 2)\n",
        "        x = torch.flatten(self.dropout1(x), 1)\n",
        "        x = self.fc2(self.dropout2(F.relu(self.fc1(x))))\n",
        "        output = F.log_softmax(x, dim=1)\n",
        "        return output\n",
        "\n",
        "\n",
        "model_space = ModelSpace()\n",
        "model_space"
      ]
    },
    {
      "cell_type": "markdown",
      "metadata": {},
      "source": [
        "This example uses two mutation APIs,\n",
        ":class:`nn.LayerChoice <nni.retiarii.nn.pytorch.LayerChoice>` and\n",
        ":class:`nn.InputChoice <nni.retiarii.nn.pytorch.ValueChoice>`.\n",
        ":class:`nn.LayerChoice <nni.retiarii.nn.pytorch.LayerChoice>`\n",
        "takes a list of candidate modules (two in this example), one will be chosen for each sampled model.\n",
        "It can be used like normal PyTorch module.\n",
        ":class:`nn.InputChoice <nni.retiarii.nn.pytorch.ValueChoice>` takes a list of candidate values,\n",
        "one will be chosen to take effect for each sampled model.\n",
        "\n",
        "More detailed API description and usage can be found :doc:`here </nas/construct_space>`.\n",
        "\n",
        "<div class=\"alert alert-info\"><h4>Note</h4><p>We are actively enriching the mutation APIs, to facilitate easy construction of model space.\n",
        "    If the currently supported mutation APIs cannot express your model space,\n",
        "    please refer to :doc:`this doc </nas/mutator>` for customizing mutators.</p></div>\n",
        "\n",
        "## Explore the Defined Model Space\n",
        "\n",
        "There are basically two exploration approaches: (1) search by evaluating each sampled model independently,\n",
        "which is the search approach in `multi-trial NAS <multi-trial-nas>`\n",
        "and (2) one-shot weight-sharing based search, which is used in one-shot NAS.\n",
        "We demonstrate the first approach in this tutorial. Users can refer to `here <one-shot-nas>` for the second approach.\n",
        "\n",
        "First, users need to pick a proper exploration strategy to explore the defined model space.\n",
        "Second, users need to pick or customize a model evaluator to evaluate the performance of each explored model.\n",
        "\n",
        "### Pick an exploration strategy\n",
        "\n",
        "Retiarii supports many :doc:`exploration strategies </nas/exploration_strategy>`.\n",
        "\n",
        "Simply choosing (i.e., instantiate) an exploration strategy as below.\n",
        "\n"
      ]
    },
    {
      "cell_type": "code",
      "execution_count": 78,
      "metadata": {
        "collapsed": false
      },
      "outputs": [],
      "source": [
        "import nni.retiarii.strategy as strategy\n",
        "search_strategy = strategy.Random(dedup=True)  # dedup=False if deduplication is not wanted"
      ]
    },
    {
      "cell_type": "markdown",
      "metadata": {},
      "source": [
        "### Pick or customize a model evaluator\n",
        "\n",
        "In the exploration process, the exploration strategy repeatedly generates new models. A model evaluator is for training\n",
        "and validating each generated model to obtain the model's performance.\n",
        "The performance is sent to the exploration strategy for the strategy to generate better models.\n",
        "\n",
        "Retiarii has provided :doc:`built-in model evaluators </nas/evaluator>`, but to start with,\n",
        "it is recommended to use :class:`FunctionalEvaluator <nni.retiarii.evaluator.FunctionalEvaluator>`,\n",
        "that is, to wrap your own training and evaluation code with one single function.\n",
        "This function should receive one single model class and uses :func:`nni.report_final_result` to report the final score of this model.\n",
        "\n",
        "An example here creates a simple evaluator that runs on MNIST dataset, trains for 2 epochs, and reports its validation accuracy.\n",
        "\n"
      ]
    },
    {
      "cell_type": "code",
      "execution_count": 79,
      "metadata": {
        "collapsed": false
      },
      "outputs": [],
      "source": [
        "import nni\n",
        "\n",
        "from torchvision import transforms\n",
        "from torchvision.datasets import MNIST\n",
        "from torch.utils.data import DataLoader\n",
        "\n",
        "\n",
        "def train_epoch(model, device, train_loader, optimizer, epoch):\n",
        "    loss_fn = torch.nn.CrossEntropyLoss()\n",
        "    model.train()\n",
        "    for batch_idx, (data, target) in enumerate(train_loader):\n",
        "        data, target = data.to(device), target.to(device)\n",
        "        optimizer.zero_grad()\n",
        "        output = model(data)\n",
        "        loss = loss_fn(output, target)\n",
        "        loss.backward()\n",
        "        optimizer.step()\n",
        "        if batch_idx % 10 == 0:\n",
        "            print('Train Epoch: {} [{}/{} ({:.0f}%)]\\tLoss: {:.6f}'.format(\n",
        "                epoch, batch_idx * len(data), len(train_loader.dataset),\n",
        "                100. * batch_idx / len(train_loader), loss.item()))\n",
        "\n",
        "\n",
        "def test_epoch(model, device, test_loader):\n",
        "    model.eval()\n",
        "    test_loss = 0\n",
        "    correct = 0\n",
        "    with torch.no_grad():\n",
        "        for data, target in test_loader:\n",
        "            data, target = data.to(device), target.to(device)\n",
        "            output = model(data)\n",
        "            pred = output.argmax(dim=1, keepdim=True)\n",
        "            correct += pred.eq(target.view_as(pred)).sum().item()\n",
        "\n",
        "    test_loss /= len(test_loader.dataset)\n",
        "    accuracy = 100. * correct / len(test_loader.dataset)\n",
        "\n",
        "    print('\\nTest set: Accuracy: {}/{} ({:.0f}%)\\n'.format(\n",
        "          correct, len(test_loader.dataset), accuracy))\n",
        "\n",
        "    return accuracy\n",
        "\n",
        "\n",
        "def evaluate_model(model_cls):\n",
        "    # \"model_cls\" is a class, need to instantiate\n",
        "    model = model_cls()\n",
        "\n",
        "    device = torch.device('cuda') if torch.cuda.is_available() else torch.device('cpu')\n",
        "    model.to(device)\n",
        "\n",
        "    optimizer = torch.optim.Adam(model.parameters(), lr=1e-3)\n",
        "    transf = transforms.Compose([transforms.ToTensor(), transforms.Normalize((0.1307,), (0.3081,))])\n",
        "    train_loader = DataLoader(MNIST('data/mnist', download=True, transform=transf), batch_size=64, shuffle=True)\n",
        "    test_loader = DataLoader(MNIST('data/mnist', download=True, train=False, transform=transf), batch_size=64)\n",
        "\n",
        "    for epoch in range(3):\n",
        "        # train the model for one epoch\n",
        "        train_epoch(model, device, train_loader, optimizer, epoch)\n",
        "        # test the model for one epoch\n",
        "        accuracy = test_epoch(model, device, test_loader)\n",
        "        # call report intermediate result. Result can be float or dict\n",
        "        nni.report_intermediate_result(accuracy)\n",
        "\n",
        "    # report final test result\n",
        "    nni.report_final_result(accuracy)"
      ]
    },
    {
      "cell_type": "markdown",
      "metadata": {},
      "source": [
        "Create the evaluator\n",
        "\n"
      ]
    },
    {
      "cell_type": "code",
      "execution_count": 80,
      "metadata": {
        "collapsed": false
      },
      "outputs": [],
      "source": [
        "from nni.retiarii.evaluator import FunctionalEvaluator\n",
        "evaluator = FunctionalEvaluator(evaluate_model)"
      ]
    },
    {
      "cell_type": "markdown",
      "metadata": {},
      "source": [
        "The ``train_epoch`` and ``test_epoch`` here can be any customized function,\n",
        "where users can write their own training recipe.\n",
        "\n",
        "It is recommended that the ``evaluate_model`` here accepts no additional arguments other than ``model_cls``.\n",
        "However, in the :doc:`advanced tutorial </nas/evaluator>`, we will show how to use additional arguments in case you actually need those.\n",
        "In future, we will support mutation on the arguments of evaluators, which is commonly called \"Hyper-parmeter tuning\".\n",
        "\n",
        "## Launch an Experiment\n",
        "\n",
        "After all the above are prepared, it is time to start an experiment to do the model search. An example is shown below.\n",
        "\n"
      ]
    },
    {
      "cell_type": "code",
      "execution_count": 81,
      "metadata": {
        "collapsed": false
      },
      "outputs": [],
      "source": [
        "from nni.retiarii.experiment.pytorch import RetiariiExperiment, RetiariiExeConfig\n",
        "exp = RetiariiExperiment(model_space, evaluator, [], search_strategy)\n",
        "exp_config = RetiariiExeConfig('local')\n",
        "exp_config.experiment_name = 'mnist_search'"
      ]
    },
    {
      "cell_type": "markdown",
      "metadata": {},
      "source": [
        "The following configurations are useful to control how many trials to run at most / at the same time.\n",
        "\n"
      ]
    },
    {
      "cell_type": "code",
      "execution_count": 82,
      "metadata": {
        "collapsed": false
      },
      "outputs": [],
      "source": [
        "exp_config.max_trial_number = 2 # spawn 4 trials at most\n",
        "exp_config.trial_concurrency = 1  # will run two trials concurrently"
      ]
    },
    {
      "cell_type": "markdown",
      "metadata": {},
      "source": [
        "Remember to set the following config if you want to GPU.\n",
        "``use_active_gpu`` should be set true if you wish to use an occupied GPU (possibly running a GUI).\n",
        "\n"
      ]
    },
    {
      "cell_type": "code",
      "execution_count": 83,
      "metadata": {
        "collapsed": false
      },
      "outputs": [],
      "source": [
        "exp_config.trial_gpu_number = 0\n",
        "exp_config.training_service.use_active_gpu = False"
      ]
    },
    {
      "cell_type": "markdown",
      "metadata": {},
      "source": [
        "Launch the experiment. The experiment should take several minutes to finish on a workstation with 2 GPUs.\n",
        "\n"
      ]
    },
    {
      "cell_type": "code",
      "execution_count": 84,
      "metadata": {
        "collapsed": false
      },
      "outputs": [
        {
          "ename": "RuntimeError",
          "evalue": "Port 8087 is not idle ",
          "output_type": "error",
          "traceback": [
            "\u001b[1;31m---------------------------------------------------------------------------\u001b[0m",
            "\u001b[1;31mRuntimeError\u001b[0m                              Traceback (most recent call last)",
            "\u001b[1;32m~\\AppData\\Local\\Temp\\ipykernel_21084\\849318313.py\u001b[0m in \u001b[0;36m<module>\u001b[1;34m\u001b[0m\n\u001b[1;32m----> 1\u001b[1;33m \u001b[0mexp\u001b[0m\u001b[1;33m.\u001b[0m\u001b[0mrun\u001b[0m\u001b[1;33m(\u001b[0m\u001b[0mexp_config\u001b[0m\u001b[1;33m,\u001b[0m \u001b[1;36m8087\u001b[0m\u001b[1;33m)\u001b[0m\u001b[1;33m\u001b[0m\u001b[1;33m\u001b[0m\u001b[0m\n\u001b[0m",
            "\u001b[1;32md:\\SoftwareInstallation\\CondaInstall\\envs\\nni_env\\lib\\site-packages\\nni\\nas\\experiment\\pytorch.py\u001b[0m in \u001b[0;36mrun\u001b[1;34m(self, config, port, debug)\u001b[0m\n\u001b[0;32m    281\u001b[0m         \u001b[1;32melse\u001b[0m\u001b[1;33m:\u001b[0m\u001b[1;33m\u001b[0m\u001b[1;33m\u001b[0m\u001b[0m\n\u001b[0;32m    282\u001b[0m             \u001b[0mws_url\u001b[0m \u001b[1;33m=\u001b[0m \u001b[1;34mf'ws://localhost:{port}/tuner'\u001b[0m\u001b[1;33m\u001b[0m\u001b[1;33m\u001b[0m\u001b[0m\n\u001b[1;32m--> 283\u001b[1;33m             \u001b[0mcanoni_conf\u001b[0m \u001b[1;33m=\u001b[0m \u001b[0mself\u001b[0m\u001b[1;33m.\u001b[0m\u001b[0m_start_impl\u001b[0m\u001b[1;33m(\u001b[0m\u001b[0mport\u001b[0m\u001b[1;33m,\u001b[0m \u001b[0mdebug\u001b[0m\u001b[1;33m,\u001b[0m \u001b[0mRunMode\u001b[0m\u001b[1;33m.\u001b[0m\u001b[0mBackground\u001b[0m\u001b[1;33m,\u001b[0m \u001b[0mws_url\u001b[0m\u001b[1;33m,\u001b[0m \u001b[1;33m[\u001b[0m\u001b[1;34m'retiarii'\u001b[0m\u001b[1;33m]\u001b[0m\u001b[1;33m)\u001b[0m\u001b[1;33m\u001b[0m\u001b[1;33m\u001b[0m\u001b[0m\n\u001b[0m\u001b[0;32m    284\u001b[0m             \u001b[0mcanoni_conf\u001b[0m \u001b[1;33m=\u001b[0m \u001b[0mcast\u001b[0m\u001b[1;33m(\u001b[0m\u001b[0mRetiariiExeConfig\u001b[0m\u001b[1;33m,\u001b[0m \u001b[0mcanoni_conf\u001b[0m\u001b[1;33m)\u001b[0m\u001b[1;33m\u001b[0m\u001b[1;33m\u001b[0m\u001b[0m\n\u001b[0;32m    285\u001b[0m             \u001b[0mself\u001b[0m\u001b[1;33m.\u001b[0m\u001b[0m_dispatcher\u001b[0m \u001b[1;33m=\u001b[0m \u001b[0mRetiariiAdvisor\u001b[0m\u001b[1;33m(\u001b[0m\u001b[0mws_url\u001b[0m\u001b[1;33m)\u001b[0m\u001b[1;33m\u001b[0m\u001b[1;33m\u001b[0m\u001b[0m\n",
            "\u001b[1;32md:\\SoftwareInstallation\\CondaInstall\\envs\\nni_env\\lib\\site-packages\\nni\\experiment\\experiment.py\u001b[0m in \u001b[0;36m_start_impl\u001b[1;34m(self, port, debug, run_mode, tuner_command_channel, tags)\u001b[0m\n\u001b[0;32m    102\u001b[0m \u001b[1;33m\u001b[0m\u001b[0m\n\u001b[0;32m    103\u001b[0m         self._proc = launcher.start_experiment(self._action, self.id, config, port, debug, run_mode,\n\u001b[1;32m--> 104\u001b[1;33m                                                self.url_prefix, tuner_command_channel, tags)\n\u001b[0m\u001b[0;32m    105\u001b[0m         \u001b[1;32massert\u001b[0m \u001b[0mself\u001b[0m\u001b[1;33m.\u001b[0m\u001b[0m_proc\u001b[0m \u001b[1;32mis\u001b[0m \u001b[1;32mnot\u001b[0m \u001b[1;32mNone\u001b[0m\u001b[1;33m\u001b[0m\u001b[1;33m\u001b[0m\u001b[0m\n\u001b[0;32m    106\u001b[0m \u001b[1;33m\u001b[0m\u001b[0m\n",
            "\u001b[1;32md:\\SoftwareInstallation\\CondaInstall\\envs\\nni_env\\lib\\site-packages\\nni\\experiment\\launcher.py\u001b[0m in \u001b[0;36mstart_experiment\u001b[1;34m(action, exp_id, config, port, debug, run_mode, url_prefix, tuner_command_channel, tags)\u001b[0m\n\u001b[0;32m    103\u001b[0m     \u001b[0mnni_manager_args\u001b[0m \u001b[1;33m=\u001b[0m \u001b[0mNniManagerArgs\u001b[0m\u001b[1;33m(\u001b[0m\u001b[0maction\u001b[0m\u001b[1;33m,\u001b[0m \u001b[0mexp_id\u001b[0m\u001b[1;33m,\u001b[0m \u001b[0mconfig\u001b[0m\u001b[1;33m,\u001b[0m \u001b[0mport\u001b[0m\u001b[1;33m,\u001b[0m \u001b[0mdebug\u001b[0m\u001b[1;33m,\u001b[0m \u001b[0mforeground\u001b[0m\u001b[1;33m,\u001b[0m \u001b[0murl_prefix\u001b[0m\u001b[1;33m,\u001b[0m \u001b[0mtuner_command_channel\u001b[0m\u001b[1;33m)\u001b[0m\u001b[1;33m\u001b[0m\u001b[1;33m\u001b[0m\u001b[0m\n\u001b[0;32m    104\u001b[0m \u001b[1;33m\u001b[0m\u001b[0m\n\u001b[1;32m--> 105\u001b[1;33m     \u001b[0m_ensure_port_idle\u001b[0m\u001b[1;33m(\u001b[0m\u001b[0mport\u001b[0m\u001b[1;33m)\u001b[0m\u001b[1;33m\u001b[0m\u001b[1;33m\u001b[0m\u001b[0m\n\u001b[0m\u001b[0;32m    106\u001b[0m     \u001b[0mwebsocket_platforms\u001b[0m \u001b[1;33m=\u001b[0m \u001b[1;33m[\u001b[0m\u001b[1;34m'hybrid'\u001b[0m\u001b[1;33m,\u001b[0m \u001b[1;34m'remote'\u001b[0m\u001b[1;33m,\u001b[0m \u001b[1;34m'openpai'\u001b[0m\u001b[1;33m,\u001b[0m \u001b[1;34m'kubeflow'\u001b[0m\u001b[1;33m,\u001b[0m \u001b[1;34m'frameworkcontroller'\u001b[0m\u001b[1;33m,\u001b[0m \u001b[1;34m'adl'\u001b[0m\u001b[1;33m]\u001b[0m\u001b[1;33m\u001b[0m\u001b[1;33m\u001b[0m\u001b[0m\n\u001b[0;32m    107\u001b[0m     \u001b[1;32mif\u001b[0m \u001b[0maction\u001b[0m \u001b[1;33m!=\u001b[0m \u001b[1;34m'view'\u001b[0m \u001b[1;32mand\u001b[0m \u001b[0mnni_manager_args\u001b[0m\u001b[1;33m.\u001b[0m\u001b[0mmode\u001b[0m \u001b[1;32min\u001b[0m \u001b[0mwebsocket_platforms\u001b[0m\u001b[1;33m:\u001b[0m\u001b[1;33m\u001b[0m\u001b[1;33m\u001b[0m\u001b[0m\n",
            "\u001b[1;32md:\\SoftwareInstallation\\CondaInstall\\envs\\nni_env\\lib\\site-packages\\nni\\experiment\\launcher.py\u001b[0m in \u001b[0;36m_ensure_port_idle\u001b[1;34m(port, message)\u001b[0m\n\u001b[0;32m    183\u001b[0m         \u001b[0msock\u001b[0m\u001b[1;33m.\u001b[0m\u001b[0mclose\u001b[0m\u001b[1;33m(\u001b[0m\u001b[1;33m)\u001b[0m\u001b[1;33m\u001b[0m\u001b[1;33m\u001b[0m\u001b[0m\n\u001b[0;32m    184\u001b[0m         \u001b[0mmessage\u001b[0m \u001b[1;33m=\u001b[0m \u001b[1;34mf'(message)'\u001b[0m \u001b[1;32mif\u001b[0m \u001b[0mmessage\u001b[0m \u001b[1;32melse\u001b[0m \u001b[1;34m''\u001b[0m\u001b[1;33m\u001b[0m\u001b[1;33m\u001b[0m\u001b[0m\n\u001b[1;32m--> 185\u001b[1;33m         \u001b[1;32mraise\u001b[0m \u001b[0mRuntimeError\u001b[0m\u001b[1;33m(\u001b[0m\u001b[1;34mf'Port {port} is not idle {message}'\u001b[0m\u001b[1;33m)\u001b[0m\u001b[1;33m\u001b[0m\u001b[1;33m\u001b[0m\u001b[0m\n\u001b[0m\u001b[0;32m    186\u001b[0m \u001b[1;33m\u001b[0m\u001b[0m\n\u001b[0;32m    187\u001b[0m \u001b[1;33m\u001b[0m\u001b[0m\n",
            "\u001b[1;31mRuntimeError\u001b[0m: Port 8087 is not idle "
          ]
        }
      ],
      "source": [
        "exp.run(exp_config, 8087)"
      ]
    },
    {
      "cell_type": "markdown",
      "metadata": {},
      "source": [
        "Users can also run Retiarii Experiment with :doc:`different training services </experiment/training_service/overview>`\n",
        "besides ``local`` training service.\n",
        "\n",
        "## Visualize the Experiment\n",
        "\n",
        "Users can visualize their experiment in the same way as visualizing a normal hyper-parameter tuning experiment.\n",
        "For example, open ``localhost:8081`` in your browser, 8081 is the port that you set in ``exp.run``.\n",
        "Please refer to :doc:`here </experiment/web_portal/web_portal>` for details.\n",
        "\n",
        "We support visualizing models with 3rd-party visualization engines (like `Netron <https://netron.app/>`__).\n",
        "This can be used by clicking ``Visualization`` in detail panel for each trial.\n",
        "Note that current visualization is based on `onnx <https://onnx.ai/>`__ ,\n",
        "thus visualization is not feasible if the model cannot be exported into onnx.\n",
        "\n",
        "Built-in evaluators (e.g., Classification) will automatically export the model into a file.\n",
        "For your own evaluator, you need to save your file into ``$NNI_OUTPUT_DIR/model.onnx`` to make this work.\n",
        "For instance,\n",
        "\n"
      ]
    },
    {
      "cell_type": "code",
      "execution_count": 85,
      "metadata": {
        "collapsed": false
      },
      "outputs": [],
      "source": [
        "import os\n",
        "from pathlib import Path\n",
        "\n",
        "\n",
        "def evaluate_model_with_visualization(model_cls):\n",
        "    model = model_cls()\n",
        "    # dump the model into an onnx\n",
        "    if 'NNI_OUTPUT_DIR' in os.environ:\n",
        "        dummy_input = torch.zeros(1, 3, 32, 32)\n",
        "        torch.onnx.export(model, (dummy_input, ),\n",
        "                          Path(os.environ['NNI_OUTPUT_DIR']) / 'model.onnx')\n",
        "    evaluate_model(model_cls)"
      ]
    },
    {
      "cell_type": "markdown",
      "metadata": {},
      "source": [
        "Relaunch the experiment, and a button is shown on Web portal.\n",
        "\n",
        "<img src=\"file://../../img/netron_entrance_webui.png\">\n",
        "\n",
        "## Export Top Models\n",
        "\n",
        "Users can export top models after the exploration is done using ``export_top_models``.\n",
        "\n"
      ]
    },
    {
      "cell_type": "code",
      "execution_count": 86,
      "metadata": {
        "collapsed": false
      },
      "outputs": [
        {
          "name": "stdout",
          "output_type": "stream",
          "text": [
            "{'model_1': '0', 'model_2': 0.5, 'model_3': 256}\n"
          ]
        }
      ],
      "source": [
        "for model_dict in exp.export_top_models(formatter='dict'):\n",
        "    print(model_dict)"
      ]
    },
    {
      "cell_type": "markdown",
      "metadata": {},
      "source": [
        "The output is ``json`` object which records the mutation actions of the top model.\n",
        "If users want to output source code of the top model,\n",
        "they can use `graph-based execution engine <graph-based-execution-engine>` for the experiment,\n",
        "by simply adding the following two lines.\n",
        "\n"
      ]
    },
    {
      "cell_type": "code",
      "execution_count": 87,
      "metadata": {
        "collapsed": false
      },
      "outputs": [
        {
          "name": "stderr",
          "output_type": "stream",
          "text": [
            "Exception in thread Thread-23:\n",
            "Traceback (most recent call last):\n",
            "  File \"d:\\SoftwareInstallation\\CondaInstall\\envs\\nni_env\\lib\\threading.py\", line 926, in _bootstrap_inner\n",
            "    self.run()\n",
            "  File \"d:\\SoftwareInstallation\\CondaInstall\\envs\\nni_env\\lib\\threading.py\", line 870, in run\n",
            "    self._target(*self._args, **self._kwargs)\n",
            "  File \"d:\\SoftwareInstallation\\CondaInstall\\envs\\nni_env\\lib\\site-packages\\nni\\runtime\\msg_dispatcher_base.py\", line 68, in run\n",
            "    command, data = self._channel._receive()\n",
            "  File \"d:\\SoftwareInstallation\\CondaInstall\\envs\\nni_env\\lib\\site-packages\\nni\\runtime\\tuner_command_channel\\channel.py\", line 59, in _receive\n",
            "    raise RuntimeError('NNI manager closed connection')\n",
            "RuntimeError: NNI manager closed connection\n",
            "\n"
          ]
        }
      ],
      "source": [
        "exp_config.execution_engine = 'base'\n",
        "export_formatter = 'code'"
      ]
    }
  ],
  "metadata": {
    "kernelspec": {
      "display_name": "Python 3.7.12 ('nni_env')",
      "language": "python",
      "name": "python3"
    },
    "language_info": {
      "codemirror_mode": {
        "name": "ipython",
        "version": 3
      },
      "file_extension": ".py",
      "mimetype": "text/x-python",
      "name": "python",
      "nbconvert_exporter": "python",
      "pygments_lexer": "ipython3",
      "version": "3.7.12"
    },
    "vscode": {
      "interpreter": {
        "hash": "955450c2d772828a40f63eeefc98dae99e7da3b77acf66aaee66ffc795ef5a7b"
      }
    }
  },
  "nbformat": 4,
  "nbformat_minor": 0
}
